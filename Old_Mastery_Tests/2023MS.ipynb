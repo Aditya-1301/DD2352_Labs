{
 "cells": [
  {
   "cell_type": "code",
   "execution_count": 1,
   "metadata": {},
   "outputs": [
    {
     "name": "stdout",
     "output_type": "stream",
     "text": [
      "ROD (10,1) = 10\n",
      "ROD (10,2) = 25\n",
      "ROD (10,3) = 25\n",
      "ROD (10,4) = 23\n",
      "ROD (10,5) = 20\n",
      "ROD (10,6) = 26\n",
      "ROD (10,7) = 25\n",
      "ROD (10,8) = 25\n",
      "ROD (10,9) = 25\n",
      "ROD (10,10) = 30\n"
     ]
    }
   ],
   "source": [
    "# n, c, p, q, r, s = 4, [2, 2, 3, 2], [2, 5, 8, 10], [4, 3, 4, 4], [0, 9, 8, 7], [10, 10, 10, 10]\n",
    "\n",
    "# sp, sq, sr, ss = sum([c[i]*p[i] for i in range(0,n,1)]), sum([c[i]*q[i] for i in range(0,n,1)]), sum([c[i]*r[i] for i in range(0,n,1)]), sum([c[i]*s[i] for i in range(0,n,1)])\n",
    "\n",
    "# print(min(min(sp,sq),min(sr, ss)))\n",
    "\n",
    "cost = {\n",
    "    1:1,\n",
    "    2:5,\n",
    "    3:8,\n",
    "    4:9,\n",
    "    5:10,\n",
    "    6:17,\n",
    "    7:17,\n",
    "    8:20,\n",
    "    9:24, \n",
    "    10:30    \n",
    "}\n",
    "\n",
    "\n",
    "def rod(current, cut):\n",
    "    if cut >= current:\n",
    "        return cost[current]\n",
    "    else:\n",
    "        return cost[cut] + rod(current - cut, cut)\n",
    "\n",
    "n = 10\n",
    "\n",
    "for i in range(1,n+1,1):\n",
    "    print(f\"ROD ({n},{i}) = {rod(n, i)}\")"
   ]
  }
 ],
 "metadata": {
  "kernelspec": {
   "display_name": "base",
   "language": "python",
   "name": "python3"
  },
  "language_info": {
   "codemirror_mode": {
    "name": "ipython",
    "version": 3
   },
   "file_extension": ".py",
   "mimetype": "text/x-python",
   "name": "python",
   "nbconvert_exporter": "python",
   "pygments_lexer": "ipython3",
   "version": "3.9.13"
  }
 },
 "nbformat": 4,
 "nbformat_minor": 2
}
