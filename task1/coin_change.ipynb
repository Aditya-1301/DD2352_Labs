{
 "cells": [
  {
   "cell_type": "markdown",
   "metadata": {},
   "source": [
    "### 1(a) Naive Approach\n",
    "\n",
    "This code is based on the Recurrence given in the first part of the question. Here this solution just implements the relation using a top down approach."
   ]
  },
  {
   "cell_type": "code",
   "execution_count": null,
   "metadata": {},
   "outputs": [],
   "source": [
    "import sys\n",
    "\n",
    "\n",
    "def min_coin(c, s, g, p):\n",
    "    return min(min(c, s), min(g, p))\n",
    "\n",
    "\n",
    "def coin_change(n, a, b, c):\n",
    "    if n < 0: return float(\"inf\")\n",
    "    if n == 0: return 0\n",
    "    return min_coin(n, 1 + coin_change(n - a, a, b, c), 1 + coin_change(n - b, a, b, c),\n",
    "                    1 + coin_change(n - c, a, b, c))\n",
    "\n",
    "\n",
    "if __name__ == \"__main__\":\n",
    "    sys.setrecursionlimit(10000)\n",
    "    n = int(input())\n",
    "    a = int(input())\n",
    "    b = int(input())\n",
    "    c = int(input())\n",
    "    print(coin_change(n, a, b, c))\n",
    "    # print(coin_change(10, 2, 3, 4))\n",
    "    # print(coin_change(15, 5, 6, 7))\n",
    "    # print(coin_change(0, 10, 100, 1000))\n"
   ]
  },
  {
   "cell_type": "markdown",
   "metadata": {},
   "source": [
    "### 1(b) Timing the solution in (a)\n",
    "\n",
    "Here we time the naive solution. We time it for 2 different cases where we increase the value of n linearly and in the second case we exponentially increase the value of n."
   ]
  },
  {
   "cell_type": "code",
   "execution_count": null,
   "metadata": {},
   "outputs": [],
   "source": [
    "import sys\n",
    "import time\n",
    "\n",
    "def min_coin(c, s, g, p):\n",
    "    return min(min(c, s), min(g, p))\n",
    "\n",
    "\n",
    "def coin_change(n, a, b, c):\n",
    "    if n < 0: return float(\"inf\")\n",
    "    if n == 0: return 0\n",
    "    return min_coin(n, 1 + coin_change(n - a, a, b, c), 1 + coin_change(n - b, a, b, c),\n",
    "                    1 + coin_change(n - c, a, b, c))\n",
    "\n",
    "\n",
    "def benchmark(option):\n",
    "    t_end = time.time() + 1\n",
    "    i = 1\n",
    "    while time.time() < t_end:\n",
    "        if option == \"lin\":\n",
    "            i += 1\n",
    "        elif option == \"exp\":\n",
    "            if i >= 64:\n",
    "                break\n",
    "            i *= 2\n",
    "        else:\n",
    "            raise ValueError(\"Invalid option\")\n",
    "        c = coin_change(i, 5, 6, 7)\n",
    "        print(f\"Current 'n': {i}, coin_change(n,a,b,c): {c}\")\n",
    "\n",
    "\n",
    "if __name__ == \"__main__\":\n",
    "    sys.setrecursionlimit(100000)\n",
    "    benchmark(\"lin\")\n",
    "    benchmark(\"exp\")"
   ]
  },
  {
   "cell_type": "markdown",
   "metadata": {},
   "source": [
    "### 1(c) Memoization optimization\n",
    "\n",
    "Here we optimize the original implementation by adding a cache which stores unique values which we have computed while recursing. These values can now be directly reused instead of having to constantly recompute the values which slowed down the previous solution dramatically. Upon making this optimization we end up reducing the time complexity from exponential to just a linear time complexity."
   ]
  },
  {
   "cell_type": "code",
   "execution_count": null,
   "metadata": {
    "is_executing": true
   },
   "outputs": [],
   "source": [
    "import sys\n",
    "import time\n",
    "\n",
    "cache = {}\n",
    "\n",
    "\n",
    "def min_coin(c, s, g, p):\n",
    "    return min(min(c, s), min(g, p))\n",
    "\n",
    "\n",
    "def coin_change(n, a, b, c):\n",
    "    if n < 0: return float(\"inf\")\n",
    "    if n == 0: return 0\n",
    "    if n - a not in cache:\n",
    "        cache[n - a] = coin_change(n - a, a, b, c)\n",
    "    if n - b not in cache:\n",
    "        cache[n - b] = coin_change(n - b, a, b, c)\n",
    "    if n - c not in cache:\n",
    "        cache[n - c] = coin_change(n - c, a, b, c)\n",
    "    return min_coin(n, 1 + cache[n - a], 1 + cache[n - b],\n",
    "                    1 + cache[n - c])\n",
    "\n",
    "\n",
    "def benchmark(option):\n",
    "    t_end = time.time() + 1\n",
    "    i = 1\n",
    "    while time.time() < t_end:\n",
    "        if option == \"lin\":\n",
    "            i += 1\n",
    "        elif option == \"exp\":\n",
    "            i *= 2\n",
    "        else:\n",
    "            raise ValueError(\"Invalid option\")\n",
    "        c = coin_change(i, 5, 6, 7)\n",
    "        print(f\"Current 'n': {i}, coin_change(n,a,b,c): {c}\")\n",
    "\n",
    "\n",
    "if __name__ == \"__main__\":\n",
    "    sys.setrecursionlimit(100000)\n",
    "    # benchmark(\"lin\")\n",
    "    benchmark(\"exp\")\n"
   ]
  },
  {
   "cell_type": "markdown",
   "metadata": {},
   "source": [
    "### 1(e) Bottom-Up Approach\n",
    "\n",
    "Here we just implement the recurrence relation in an iterative or bottom-up manner. This should further decrease the amount of time taken by the solution. *This approach should take linear time to compute as it only requires computing n computations over the for loop*. Here we are just translating the recursive approach to a for loop, by taking cases one at a time. For n = 0 we set coins[0] = 0. After this as we iterate from 1 to n+1 we put coins[i] = i, setting the min amount of coins needed to be the same as the current number of coins. After this if i-(a/b/c) is non negative then we set coins[i] to the minimum of the current amount of coins and 1 + coins[n-(a/b/c)]. This way we manage to work our way bottom up from the base cases."
   ]
  },
  {
   "cell_type": "code",
   "execution_count": null,
   "metadata": {
    "collapsed": false,
    "is_executing": true
   },
   "outputs": [],
   "source": [
    "import sys\n",
    "\n",
    "\n",
    "def fib_td(n):\n",
    "    if n == 0:\n",
    "        return 0\n",
    "    elif n == 1:\n",
    "        return 1\n",
    "    else: \n",
    "        return fib_td(n-1) + fib_td(n-2) \n",
    "\n",
    "\n",
    "def fib_bu(n):\n",
    "    nums = {}\n",
    "    nums[0] = 0\n",
    "    nums[1] = 1\n",
    "    for i in range(2,n,1):\n",
    "        nums[i] = nums[i-1] + nums[i-2]\n",
    "    return nums.values()\n",
    "\n",
    "\n",
    "def coin_change(n, a, b, c):\n",
    "    coins = [i for i in range(n+1)]\n",
    "    coins[0] = 0\n",
    "    for i in range(1, n + 1):\n",
    "        coins[i] = i\n",
    "        if i - a >= 0:\n",
    "            coins[i] = min(coins[i], 1 + coins[i - a])\n",
    "        if i - b >= 0:\n",
    "            coins[i] = min(coins[i], 1 + coins[i - b])\n",
    "        if i - c >= 0:\n",
    "            coins[i] = min(coins[i], 1 + coins[i - c])\n",
    "    return coins[n]\n",
    "\n",
    "\n",
    "if __name__ == \"__main__\":\n",
    "    sys.setrecursionlimit(10000)\n",
    "    n = int(input(\"Enter target amount: \"))\n",
    "    a = int(input(\"Enter value of coin a: \"))\n",
    "    b = int(input(\"Enter value of coin b: \"))\n",
    "    c = int(input(\"Enter value of coin c: \"))\n",
    "    print(coin_change(n, a, b, c))"
   ]
  }
 ],
 "metadata": {
  "kernelspec": {
   "display_name": "base",
   "language": "python",
   "name": "python3"
  },
  "language_info": {
   "codemirror_mode": {
    "name": "ipython",
    "version": 3
   },
   "file_extension": ".py",
   "mimetype": "text/x-python",
   "name": "python",
   "nbconvert_exporter": "python",
   "pygments_lexer": "ipython3",
   "version": "3.9.13"
  }
 },
 "nbformat": 4,
 "nbformat_minor": 2
}
