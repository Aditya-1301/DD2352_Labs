{
 "cells": [
  {
   "cell_type": "markdown",
   "metadata": {},
   "source": [
    "### 1(a) Naive Approach\n",
    "\n",
    "This code is based on the Recurrence given in the first part of the question. Here this solution just implements the relation using a top down approach."
   ]
  },
  {
   "cell_type": "code",
   "execution_count": 1,
   "metadata": {},
   "outputs": [
    {
     "name": "stdout",
     "output_type": "stream",
     "text": [
      "3\n"
     ]
    }
   ],
   "source": [
    "import sys\n",
    "\n",
    "\n",
    "def min_coin(c, s, g, p):\n",
    "    return min(min(c, s), min(g, p))\n",
    "\n",
    "\n",
    "def coin_change(n, a, b, c):\n",
    "    if n < 0: return float(\"inf\")\n",
    "    if n == 0: return 0\n",
    "    return min_coin(n, 1 + coin_change(n - a, a, b, c), 1 + coin_change(n - b, a, b, c),\n",
    "                    1 + coin_change(n - c, a, b, c))\n",
    "\n",
    "\n",
    "if __name__ == \"__main__\":\n",
    "    sys.setrecursionlimit(10000)\n",
    "    n = int(input())\n",
    "    a = int(input())\n",
    "    b = int(input())\n",
    "    c = int(input())\n",
    "    print(coin_change(n, a, b, c))\n",
    "    # print(coin_change(10, 2, 3, 4))\n",
    "    # print(coin_change(15, 5, 6, 7))\n",
    "    # print(coin_change(0, 10, 100, 1000))\n"
   ]
  },
  {
   "cell_type": "markdown",
   "metadata": {},
   "source": [
    "### 1(b) Timing the solution in (a)\n",
    "\n",
    "Here we time the naive solution. We time it for 2 different cases where we increase the value of n linearly and in the second case we exponentially increase the value of n."
   ]
  },
  {
   "cell_type": "code",
   "execution_count": 2,
   "metadata": {},
   "outputs": [
    {
     "name": "stdout",
     "output_type": "stream",
     "text": [
      "Current 'n': 2, coin_change(n,a,b,c): 2\n",
      "Current 'n': 3, coin_change(n,a,b,c): 3\n",
      "Current 'n': 4, coin_change(n,a,b,c): 4\n",
      "Current 'n': 5, coin_change(n,a,b,c): 1\n",
      "Current 'n': 6, coin_change(n,a,b,c): 1\n",
      "Current 'n': 7, coin_change(n,a,b,c): 1\n",
      "Current 'n': 8, coin_change(n,a,b,c): 2\n",
      "Current 'n': 9, coin_change(n,a,b,c): 3\n",
      "Current 'n': 10, coin_change(n,a,b,c): 2\n",
      "Current 'n': 11, coin_change(n,a,b,c): 2\n",
      "Current 'n': 12, coin_change(n,a,b,c): 2\n",
      "Current 'n': 13, coin_change(n,a,b,c): 2\n",
      "Current 'n': 14, coin_change(n,a,b,c): 2\n",
      "Current 'n': 15, coin_change(n,a,b,c): 3\n",
      "Current 'n': 16, coin_change(n,a,b,c): 3\n",
      "Current 'n': 17, coin_change(n,a,b,c): 3\n",
      "Current 'n': 18, coin_change(n,a,b,c): 3\n",
      "Current 'n': 19, coin_change(n,a,b,c): 3\n",
      "Current 'n': 20, coin_change(n,a,b,c): 3\n",
      "Current 'n': 21, coin_change(n,a,b,c): 3\n",
      "Current 'n': 22, coin_change(n,a,b,c): 4\n",
      "Current 'n': 23, coin_change(n,a,b,c): 4\n",
      "Current 'n': 24, coin_change(n,a,b,c): 4\n",
      "Current 'n': 25, coin_change(n,a,b,c): 4\n",
      "Current 'n': 26, coin_change(n,a,b,c): 4\n",
      "Current 'n': 27, coin_change(n,a,b,c): 4\n",
      "Current 'n': 28, coin_change(n,a,b,c): 4\n",
      "Current 'n': 29, coin_change(n,a,b,c): 5\n",
      "Current 'n': 30, coin_change(n,a,b,c): 5\n",
      "Current 'n': 31, coin_change(n,a,b,c): 5\n",
      "Current 'n': 32, coin_change(n,a,b,c): 5\n",
      "Current 'n': 33, coin_change(n,a,b,c): 5\n",
      "Current 'n': 34, coin_change(n,a,b,c): 5\n",
      "Current 'n': 35, coin_change(n,a,b,c): 5\n",
      "Current 'n': 36, coin_change(n,a,b,c): 6\n",
      "Current 'n': 37, coin_change(n,a,b,c): 6\n",
      "Current 'n': 38, coin_change(n,a,b,c): 6\n",
      "Current 'n': 39, coin_change(n,a,b,c): 6\n",
      "Current 'n': 40, coin_change(n,a,b,c): 6\n",
      "Current 'n': 41, coin_change(n,a,b,c): 6\n",
      "Current 'n': 42, coin_change(n,a,b,c): 6\n",
      "Current 'n': 43, coin_change(n,a,b,c): 7\n",
      "Current 'n': 44, coin_change(n,a,b,c): 7\n",
      "Current 'n': 45, coin_change(n,a,b,c): 7\n",
      "Current 'n': 46, coin_change(n,a,b,c): 7\n",
      "Current 'n': 47, coin_change(n,a,b,c): 7\n",
      "Current 'n': 48, coin_change(n,a,b,c): 7\n",
      "Current 'n': 49, coin_change(n,a,b,c): 7\n",
      "Current 'n': 50, coin_change(n,a,b,c): 8\n",
      "Current 'n': 51, coin_change(n,a,b,c): 8\n",
      "Current 'n': 52, coin_change(n,a,b,c): 8\n",
      "Current 'n': 53, coin_change(n,a,b,c): 8\n",
      "Current 'n': 54, coin_change(n,a,b,c): 8\n",
      "Current 'n': 55, coin_change(n,a,b,c): 8\n",
      "Current 'n': 56, coin_change(n,a,b,c): 8\n",
      "Current 'n': 57, coin_change(n,a,b,c): 9\n",
      "Current 'n': 58, coin_change(n,a,b,c): 9\n",
      "Current 'n': 59, coin_change(n,a,b,c): 9\n",
      "Current 'n': 60, coin_change(n,a,b,c): 9\n",
      "Current 'n': 61, coin_change(n,a,b,c): 9\n",
      "Current 'n': 62, coin_change(n,a,b,c): 9\n",
      "Current 'n': 63, coin_change(n,a,b,c): 9\n",
      "Current 'n': 64, coin_change(n,a,b,c): 10\n",
      "Current 'n': 2, coin_change(n,a,b,c): 2\n",
      "Current 'n': 4, coin_change(n,a,b,c): 4\n",
      "Current 'n': 8, coin_change(n,a,b,c): 2\n",
      "Current 'n': 16, coin_change(n,a,b,c): 3\n",
      "Current 'n': 32, coin_change(n,a,b,c): 5\n",
      "Current 'n': 64, coin_change(n,a,b,c): 10\n"
     ]
    }
   ],
   "source": [
    "import sys\n",
    "import time\n",
    "\n",
    "def min_coin(c, s, g, p):\n",
    "    return min(min(c, s), min(g, p))\n",
    "\n",
    "\n",
    "def coin_change(n, a, b, c):\n",
    "    if n < 0: return float(\"inf\")\n",
    "    if n == 0: return 0\n",
    "    return min_coin(n, 1 + coin_change(n - a, a, b, c), 1 + coin_change(n - b, a, b, c),\n",
    "                    1 + coin_change(n - c, a, b, c))\n",
    "\n",
    "\n",
    "def benchmark(option):\n",
    "    t_end = time.time() + 1\n",
    "    i = 1\n",
    "    while time.time() < t_end:\n",
    "        if option == \"lin\":\n",
    "            i += 1\n",
    "        elif option == \"exp\":\n",
    "            if i >= 64:\n",
    "                break\n",
    "            i *= 2\n",
    "        else:\n",
    "            raise ValueError(\"Invalid option\")\n",
    "        c = coin_change(i, 5, 6, 7)\n",
    "        print(f\"Current 'n': {i}, coin_change(n,a,b,c): {c}\")\n",
    "\n",
    "\n",
    "if __name__ == \"__main__\":\n",
    "    sys.setrecursionlimit(100000)\n",
    "    benchmark(\"lin\")\n",
    "    benchmark(\"exp\")"
   ]
  },
  {
   "cell_type": "markdown",
   "metadata": {},
   "source": [
    "### 1(c) Memoization optimization\n",
    "\n",
    "Here we optimize the original implementation by adding a cache which stores unique values which we have computed while recursing. These values can now be directly reused instead of having to constantly recompute the values which slowed down the previous solution dramatically. Upon making this optimization we end up reducing the time complexity from exponential to just a linear time complexity."
   ]
  },
  {
   "cell_type": "code",
   "execution_count": 1,
   "metadata": {
    "is_executing": true
   },
   "outputs": [
    {
     "ename": "",
     "evalue": "",
     "output_type": "error",
     "traceback": [
      "\u001B[1;31mThe Kernel crashed while executing code in the current cell or a previous cell. \n",
      "\u001B[1;31mPlease review the code in the cell(s) to identify a possible cause of the failure. \n",
      "\u001B[1;31mClick <a href='https://aka.ms/vscodeJupyterKernelCrash'>here</a> for more info. \n",
      "\u001B[1;31mView Jupyter <a href='command:jupyter.viewOutput'>log</a> for further details."
     ]
    }
   ],
   "source": [
    "import sys\n",
    "import time\n",
    "\n",
    "cache = {}\n",
    "\n",
    "\n",
    "def min_coin(c, s, g, p):\n",
    "    return min(min(c, s), min(g, p))\n",
    "\n",
    "\n",
    "def coin_change(n, a, b, c):\n",
    "    if n < 0: return float(\"inf\")\n",
    "    if n == 0: return 0\n",
    "    if n - a not in cache:\n",
    "        cache[n - a] = coin_change(n - a, a, b, c)\n",
    "    if n - b not in cache:\n",
    "        cache[n - b] = coin_change(n - b, a, b, c)\n",
    "    if n - c not in cache:\n",
    "        cache[n - c] = coin_change(n - c, a, b, c)\n",
    "    return min_coin(n, 1 + cache[n - a], 1 + cache[n - b],\n",
    "                    1 + cache[n - c])\n",
    "\n",
    "\n",
    "def benchmark(option):\n",
    "    t_end = time.time() + 1\n",
    "    i = 1\n",
    "    while time.time() < t_end:\n",
    "        if option == \"lin\":\n",
    "            i += 1\n",
    "        elif option == \"exp\":\n",
    "            i *= 2\n",
    "        else:\n",
    "            raise ValueError(\"Invalid option\")\n",
    "        c = coin_change(i, 5, 6, 7)\n",
    "        print(f\"Current 'n': {i}, coin_change(n,a,b,c): {c}\")\n",
    "\n",
    "\n",
    "if __name__ == \"__main__\":\n",
    "    sys.setrecursionlimit(100000)\n",
    "    # benchmark(\"lin\")\n",
    "    benchmark(\"exp\")\n"
   ]
  },
  {
   "cell_type": "markdown",
   "metadata": {},
   "source": [
    "### 1(e) Bottom-Up Approach\n",
    "\n",
    "Here we just implement the recurrence relation in an iterative or bottom-up manner. This should further decrease the amount of time taken by the solution. *This approach should take linear time to compute as it only requires computing n computations over the for loop*. Here we are just translating the recursive approach to a for loop, by taking cases one at a time. For n = 0 we set coins[0] = 0. After this as we iterate from 1 to n+1 we put coins[i] = i, setting the min amount of coins needed to be the same as the current number of coins. After this if i-(a/b/c) is non negative then we set coins[i] to the minimum of the current amount of coins and 1 + coins[n-(a/b/c)]. This way we manage to work our way bottom up from the base cases."
   ]
  },
  {
   "cell_type": "code",
   "execution_count": 1,
   "metadata": {
    "collapsed": false,
    "is_executing": true
   },
   "outputs": [
    {
     "name": "stdout",
     "output_type": "stream",
     "text": [
      "3\n"
     ]
    }
   ],
   "source": [
    "import sys\n",
    "\n",
    "\n",
    "def fib_td(n):\n",
    "    if n == 0:\n",
    "        return 0\n",
    "    elif n == 1:\n",
    "        return 1\n",
    "    else: \n",
    "        return fib_td(n-1) + fib_td(n-2) \n",
    "\n",
    "\n",
    "def fib_bu(n):\n",
    "    nums = {}\n",
    "    nums[0] = 0\n",
    "    nums[1] = 1\n",
    "    for i in range(2,n,1):\n",
    "        nums[i] = nums[i-1] + nums[i-2]\n",
    "    return nums.values()\n",
    "\n",
    "\n",
    "def coin_change(n, a, b, c):\n",
    "    coins = [i for i in range(n+1)]\n",
    "    coins[0] = 0\n",
    "    for i in range(1, n + 1):\n",
    "        coins[i] = i\n",
    "        if i - a >= 0:\n",
    "            coins[i] = min(coins[i], 1 + coins[i - a])\n",
    "        if i - b >= 0:\n",
    "            coins[i] = min(coins[i], 1 + coins[i - b])\n",
    "        if i - c >= 0:\n",
    "            coins[i] = min(coins[i], 1 + coins[i - c])\n",
    "    return coins[n]\n",
    "\n",
    "\n",
    "if __name__ == \"__main__\":\n",
    "    sys.setrecursionlimit(10000)\n",
    "    n = int(input(\"Enter target amount: \"))\n",
    "    a = int(input(\"Enter value of coin a: \"))\n",
    "    b = int(input(\"Enter value of coin b: \"))\n",
    "    c = int(input(\"Enter value of coin c: \"))\n",
    "    print(coin_change(n, a, b, c))"
   ]
  }
 ],
 "metadata": {
  "kernelspec": {
   "display_name": "base",
   "language": "python",
   "name": "python3"
  },
  "language_info": {
   "codemirror_mode": {
    "name": "ipython",
    "version": 3
   },
   "file_extension": ".py",
   "mimetype": "text/x-python",
   "name": "python",
   "nbconvert_exporter": "python",
   "pygments_lexer": "ipython3",
   "version": "3.9.13"
  }
 },
 "nbformat": 4,
 "nbformat_minor": 2
}
