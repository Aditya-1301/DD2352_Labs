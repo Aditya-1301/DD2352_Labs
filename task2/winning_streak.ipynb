{
 "cells": [
  {
   "cell_type": "code",
   "execution_count": 1,
   "metadata": {},
   "outputs": [
    {
     "name": "stdout",
     "output_type": "stream",
     "text": [
      "0.38880000000000003\n"
     ]
    }
   ],
   "source": [
    "\"\"\"\n",
    "First Recurrence\n",
    "\"\"\"\n",
    "import sys\n",
    "\n",
    "n, p, k, map = None, None, None, {}\n",
    "\n",
    "def f(x, y):\n",
    "    if y == 0: \n",
    "        return 1.0\n",
    "    if x == 0 and y > 0:\n",
    "        return 0.0\n",
    "    if f\"{x-1}{k}\" not in map:\n",
    "        map[f\"{x-1}{k}\"] = f(x-1, k)\n",
    "    if f\"{x-1}{y-1}\" not in map:\n",
    "        map[f\"{x-1}{y-1}\"] = f(x-1, y-1)\n",
    "    if x >= 1 and y >= 1:\n",
    "        return p * map[f\"{x-1}{y-1}\"] + (1 - p) * map[f\"{x-1}{k}\"]\n",
    "\n",
    "\n",
    "if __name__ == \"__main__\":\n",
    "    sys.setrecursionlimit(100000)\n",
    "    n = int(input())\n",
    "    k = int(input())\n",
    "    p = float(input())\n",
    "    print(f(n,k)) "
   ]
  },
  {
   "cell_type": "code",
   "execution_count": 2,
   "metadata": {},
   "outputs": [
    {
     "name": "stdout",
     "output_type": "stream",
     "text": [
      "0.08526047039999998\n"
     ]
    }
   ],
   "source": [
    "\"\"\"\n",
    "Second Recurrence\n",
    "\"\"\"\n",
    "\n",
    "import sys\n",
    "\n",
    "n, p, k, map = None, None, None, {}\n",
    "\n",
    "\n",
    "def g(x):\n",
    "    if x < k: \n",
    "        return 0.0\n",
    "    if x == k:\n",
    "        return p**k\n",
    "    if x in map:\n",
    "        return map[x]\n",
    "    result = g(x-1) + (p**k)*(1-p)*(1-g(x-k-1))\n",
    "    map[x] = result\n",
    "    return result\n",
    "\n",
    "\n",
    "\n",
    "if __name__ == \"__main__\":\n",
    "    sys.setrecursionlimit(100000)\n",
    "    n = int(input())\n",
    "    k = int(input())\n",
    "    p = float(input())\n",
    "    print(g(n))"
   ]
  }
 ],
 "metadata": {
  "kernelspec": {
   "display_name": "base",
   "language": "python",
   "name": "python3"
  },
  "language_info": {
   "codemirror_mode": {
    "name": "ipython",
    "version": 3
   },
   "file_extension": ".py",
   "mimetype": "text/x-python",
   "name": "python",
   "nbconvert_exporter": "python",
   "pygments_lexer": "ipython3",
   "version": "3.9.13"
  }
 },
 "nbformat": 4,
 "nbformat_minor": 2
}
