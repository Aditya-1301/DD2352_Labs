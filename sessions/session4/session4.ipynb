{
 "cells": [
  {
   "cell_type": "code",
   "execution_count": 2,
   "metadata": {},
   "outputs": [
    {
     "name": "stdout",
     "output_type": "stream",
     "text": [
      "[4, 6, 2, 1, 5, 4, 2]\n"
     ]
    }
   ],
   "source": [
    "import math\n",
    "\n",
    "values = [-1,-5,4,-2]\n",
    "\n",
    "root = abs(sum(values))\n",
    "\n",
    "tree = [root]\n",
    "\n",
    "def split(list):\n",
    "    if len(list) == 1:\n",
    "        return abs(list[0])\n",
    "    a = list[0:(len(list)//2)]\n",
    "    b = list[(len(list)//2):]\n",
    "    tree.append(abs(sum(a)))\n",
    "    tree.append(abs(sum(b)))\n",
    "    split(a)\n",
    "    split(b)\n",
    "\n",
    "split(values)\n",
    "\n",
    "print(tree)"
   ]
  }
 ],
 "metadata": {
  "kernelspec": {
   "display_name": "base",
   "language": "python",
   "name": "python3"
  },
  "language_info": {
   "codemirror_mode": {
    "name": "ipython",
    "version": 3
   },
   "file_extension": ".py",
   "mimetype": "text/x-python",
   "name": "python",
   "nbconvert_exporter": "python",
   "pygments_lexer": "ipython3",
   "version": "3.9.13"
  }
 },
 "nbformat": 4,
 "nbformat_minor": 2
}
